{
 "cells": [
  {
   "cell_type": "markdown",
   "metadata": {},
   "source": [
    "## Regression Analysis on the Concrete Slump Test dataset\n",
    "\n",
    "**Name: Elise Rattigan**<br>\n",
    "**Last modified:** August 2021<br>\n",
    "\n",
    "This project is adapted from one of the assignments in my Machine Learning unit at university, for which I received a mark of 100%.\n",
    "\n",
    "The purpose of this project was to use regression analysis to explore the **Concrete Slump Test dataset** from *UCI Machine Learning*. This dataset has 103 instances, each with 7 input variables and 3 output variables. The goal for this project was to train two different regressors (a Decision Tree regressor and a Support Vector regressor) on the input variables, to try and predict the output variable, '28-day Compressive Strength (Mpa)'.\n",
    "\n",
    "In this notebook, I will be using `GridSearch` cross-validation to find the best combination of hyperparameters, and then fitting the models to the training data. The models will be evaluated and compared using their MSE scores, and by plotting their predictions on a graph."
   ]
  },
  {
   "cell_type": "code",
   "execution_count": 1,
   "metadata": {},
   "outputs": [],
   "source": [
    "# Standard imports\n",
    "import os\n",
    "import pandas as pd\n",
    "import numpy as np\n",
    "import matplotlib.pyplot as plt\n",
    "import seaborn as sns\n",
    "import sklearn\n",
    "%matplotlib inline\n",
    "\n",
    "# Training models\n",
    "from sklearn.preprocessing import StandardScaler\n",
    "from sklearn.model_selection import GridSearchCV\n",
    "from sklearn.tree import DecisionTreeRegressor\n",
    "from sklearn.svm import SVR\n",
    "\n",
    "# For visualising decision trees\n",
    "import graphviz\n",
    "import pydotplus\n",
    "import matplotlib.image as mpimg"
   ]
  },
  {
   "cell_type": "markdown",
   "metadata": {},
   "source": [
    "## 1. Data Visualisation and Cleaning\n",
    "\n",
    "The first step is to read in the data file and output a pandas DataFrame."
   ]
  },
  {
   "cell_type": "code",
   "execution_count": 2,
   "metadata": {},
   "outputs": [
    {
     "data": {
      "text/html": [
       "<div>\n",
       "<style scoped>\n",
       "    .dataframe tbody tr th:only-of-type {\n",
       "        vertical-align: middle;\n",
       "    }\n",
       "\n",
       "    .dataframe tbody tr th {\n",
       "        vertical-align: top;\n",
       "    }\n",
       "\n",
       "    .dataframe thead th {\n",
       "        text-align: right;\n",
       "    }\n",
       "</style>\n",
       "<table border=\"1\" class=\"dataframe\">\n",
       "  <thead>\n",
       "    <tr style=\"text-align: right;\">\n",
       "      <th></th>\n",
       "      <th>No</th>\n",
       "      <th>Cement</th>\n",
       "      <th>Slag</th>\n",
       "      <th>Fly ash</th>\n",
       "      <th>Water</th>\n",
       "      <th>SP</th>\n",
       "      <th>Coarse Aggr.</th>\n",
       "      <th>Fine Aggr.</th>\n",
       "      <th>SLUMP(cm)</th>\n",
       "      <th>FLOW(cm)</th>\n",
       "      <th>Compressive Strength (28-day)(Mpa)</th>\n",
       "    </tr>\n",
       "  </thead>\n",
       "  <tbody>\n",
       "    <tr>\n",
       "      <th>0</th>\n",
       "      <td>1</td>\n",
       "      <td>273.0</td>\n",
       "      <td>82.0</td>\n",
       "      <td>105.0</td>\n",
       "      <td>210.0</td>\n",
       "      <td>9.0</td>\n",
       "      <td>904.0</td>\n",
       "      <td>680.0</td>\n",
       "      <td>23.0</td>\n",
       "      <td>62.0</td>\n",
       "      <td>34.99</td>\n",
       "    </tr>\n",
       "    <tr>\n",
       "      <th>1</th>\n",
       "      <td>2</td>\n",
       "      <td>163.0</td>\n",
       "      <td>149.0</td>\n",
       "      <td>191.0</td>\n",
       "      <td>180.0</td>\n",
       "      <td>12.0</td>\n",
       "      <td>843.0</td>\n",
       "      <td>746.0</td>\n",
       "      <td>0.0</td>\n",
       "      <td>20.0</td>\n",
       "      <td>41.14</td>\n",
       "    </tr>\n",
       "    <tr>\n",
       "      <th>2</th>\n",
       "      <td>3</td>\n",
       "      <td>162.0</td>\n",
       "      <td>148.0</td>\n",
       "      <td>191.0</td>\n",
       "      <td>179.0</td>\n",
       "      <td>16.0</td>\n",
       "      <td>840.0</td>\n",
       "      <td>743.0</td>\n",
       "      <td>1.0</td>\n",
       "      <td>20.0</td>\n",
       "      <td>41.81</td>\n",
       "    </tr>\n",
       "    <tr>\n",
       "      <th>3</th>\n",
       "      <td>4</td>\n",
       "      <td>162.0</td>\n",
       "      <td>148.0</td>\n",
       "      <td>190.0</td>\n",
       "      <td>179.0</td>\n",
       "      <td>19.0</td>\n",
       "      <td>838.0</td>\n",
       "      <td>741.0</td>\n",
       "      <td>3.0</td>\n",
       "      <td>21.5</td>\n",
       "      <td>42.08</td>\n",
       "    </tr>\n",
       "    <tr>\n",
       "      <th>4</th>\n",
       "      <td>5</td>\n",
       "      <td>154.0</td>\n",
       "      <td>112.0</td>\n",
       "      <td>144.0</td>\n",
       "      <td>220.0</td>\n",
       "      <td>10.0</td>\n",
       "      <td>923.0</td>\n",
       "      <td>658.0</td>\n",
       "      <td>20.0</td>\n",
       "      <td>64.0</td>\n",
       "      <td>26.82</td>\n",
       "    </tr>\n",
       "  </tbody>\n",
       "</table>\n",
       "</div>"
      ],
      "text/plain": [
       "   No  Cement   Slag  Fly ash  Water    SP  Coarse Aggr.  Fine Aggr.  \\\n",
       "0   1   273.0   82.0    105.0  210.0   9.0         904.0       680.0   \n",
       "1   2   163.0  149.0    191.0  180.0  12.0         843.0       746.0   \n",
       "2   3   162.0  148.0    191.0  179.0  16.0         840.0       743.0   \n",
       "3   4   162.0  148.0    190.0  179.0  19.0         838.0       741.0   \n",
       "4   5   154.0  112.0    144.0  220.0  10.0         923.0       658.0   \n",
       "\n",
       "   SLUMP(cm)  FLOW(cm)  Compressive Strength (28-day)(Mpa)  \n",
       "0       23.0      62.0                               34.99  \n",
       "1        0.0      20.0                               41.14  \n",
       "2        1.0      20.0                               41.81  \n",
       "3        3.0      21.5                               42.08  \n",
       "4       20.0      64.0                               26.82  "
      ]
     },
     "execution_count": 2,
     "metadata": {},
     "output_type": "execute_result"
    }
   ],
   "source": [
    "# Specify directory where data is located\n",
    "data_dir = os.path.join('data', 'slump_test.data')\n",
    "\n",
    "# Import data\n",
    "slump = pd.read_csv(data_dir)\n",
    "\n",
    "# Inspect first 5 lines of dataframe\n",
    "slump.head()"
   ]
  },
  {
   "cell_type": "code",
   "execution_count": 3,
   "metadata": {
    "scrolled": true
   },
   "outputs": [
    {
     "name": "stdout",
     "output_type": "stream",
     "text": [
      "<class 'pandas.core.frame.DataFrame'>\n",
      "RangeIndex: 103 entries, 0 to 102\n",
      "Data columns (total 11 columns):\n",
      " #   Column                              Non-Null Count  Dtype  \n",
      "---  ------                              --------------  -----  \n",
      " 0   No                                  103 non-null    int64  \n",
      " 1   Cement                              103 non-null    float64\n",
      " 2   Slag                                103 non-null    float64\n",
      " 3   Fly ash                             103 non-null    float64\n",
      " 4   Water                               103 non-null    float64\n",
      " 5   SP                                  103 non-null    float64\n",
      " 6   Coarse Aggr.                        103 non-null    float64\n",
      " 7   Fine Aggr.                          103 non-null    float64\n",
      " 8   SLUMP(cm)                           103 non-null    float64\n",
      " 9   FLOW(cm)                            103 non-null    float64\n",
      " 10  Compressive Strength (28-day)(Mpa)  103 non-null    float64\n",
      "dtypes: float64(10), int64(1)\n",
      "memory usage: 9.0 KB\n"
     ]
    }
   ],
   "source": [
    "# Overview of the dataframe\n",
    "slump.info()"
   ]
  },
  {
   "cell_type": "markdown",
   "metadata": {},
   "source": [
    "The above output shows there are 103 observations in the dataset, and it has 11 attributes. Of these 11 attributes:\n",
    "\n",
    "* There are 7 input variables, `Cement`, `Slag`, `Fly ash`, `Water`, `SP`, `Coarse Aggr` and `Fine Aggr`, all numerical. These will be used as the predictor variables.\n",
    "* There are 3 output variables. I will be using one of these, `Compressive Strength (28-day)(Mpa)`, as the target attribute. This is a numerical attribute.\n",
    "* The remaining 2 output variables won't be used.\n",
    "\n",
    "To look more closely at the data, we can visualise it as a correlation matrix. This is particularly useful for this dataset because the target attribute is numerical, so we can see how each of the predictors correlates with the target attribute. The below correlation matrix shows the correlations between the target and the 7 input variables."
   ]
  },
  {
   "cell_type": "code",
   "execution_count": 4,
   "metadata": {},
   "outputs": [
    {
     "data": {
      "image/png": "[encoded data removed]",
      "text/plain": [
       "<Figure size 720x432 with 2 Axes>"
      ]
     },
     "metadata": {
      "needs_background": "light"
     },
     "output_type": "display_data"
    }
   ],
   "source": [
    "# Drop unnecessary columns from the dataframe\n",
    "slump_new = slump.drop(['No', 'SLUMP(cm)', 'FLOW(cm)'], axis=1)\n",
    "\n",
    "# Create correlation matrix\n",
    "corr_matrix = slump_new.corr()\n",
    "fig, ax = plt.subplots(figsize=(10, 6))\n",
    "sns.heatmap(round(corr_matrix,2), annot=True, ax=ax, cmap=\"coolwarm\");"
   ]
  },
  {
   "cell_type": "markdown",
   "metadata": {},
   "source": [
    "From the output above, we can see that none of the predictors are very highly correlated with the target variable. The highest is `Cement`, with a correlation of 0.45. Nor are the predictors very highly correlated with each other. The largest correlation is -0.49, between `Cement` and `Fly ash`, and also between `Fine Aggr` and `Coarse Aggr`.\n",
    "\n",
    "Next, the data needs to be prepared before it can be used to train the regressor models. The function below accepts a dataframe and a target variable name as arguments, and separates the target variable from the rest of the columns (predictors). I will pass in the `slump_new` dataframe as an argument, which is the dataframe I created when I dropped unnecessary columns for the correlation matrix."
   ]
  },
  {
   "cell_type": "code",
   "execution_count": 5,
   "metadata": {},
   "outputs": [],
   "source": [
    "# Function to prepare data\n",
    "def prepare_data(df, target): \n",
    "    # Separate target variable from the predictors\n",
    "    X = df.drop(target, axis=1)\n",
    "    y = df[target].values\n",
    "    return X, y"
   ]
  },
  {
   "cell_type": "code",
   "execution_count": 6,
   "metadata": {},
   "outputs": [],
   "source": [
    "# Apply function and assign to variables\n",
    "X, y = prepare_data(slump_new, 'Compressive Strength (28-day)(Mpa)')"
   ]
  },
  {
   "cell_type": "markdown",
   "metadata": {},
   "source": [
    "## 2. Data Preparation and Feature Scaling\n",
    "\n",
    "### 2.1 Split the data\n",
    "\n",
    "Using the prepared data, the next step is to implement two regressor models, a Decision Tree Regressor and a Support Vector regressor.\n",
    "\n",
    "First, I will split the data into a training and test set, using the `train_test_split` function from Scikit-Learn with an 80/20 split."
   ]
  },
  {
   "cell_type": "code",
   "execution_count": 13,
   "metadata": {},
   "outputs": [],
   "source": [
    "# Random seed for reproducibility\n",
    "np.random.seed(100)\n",
    "\n",
    "# Split into train and test set\n",
    "from sklearn.model_selection import train_test_split\n",
    "\n",
    "X_train, X_test, y_train, y_test = train_test_split(X, y, test_size = 0.2)"
   ]
  },
  {
   "cell_type": "code",
   "execution_count": 14,
   "metadata": {},
   "outputs": [
    {
     "name": "stdout",
     "output_type": "stream",
     "text": [
      "There are 82 instances in the training set.\n"
     ]
    }
   ],
   "source": [
    "print('There are {} instances in the training set.'.format(len(y_train)))"
   ]
  },
  {
   "cell_type": "code",
   "execution_count": 15,
   "metadata": {},
   "outputs": [
    {
     "name": "stdout",
     "output_type": "stream",
     "text": [
      "There are 21 instances in the test set.\n"
     ]
    }
   ],
   "source": [
    "print('There are {} instances in the test set.'.format(len(y_test)))"
   ]
  },
  {
   "cell_type": "markdown",
   "metadata": {},
   "source": [
    "### 2.2 Feature Scaling\n",
    "\n",
    "To standardise the data in the training set, I will use Scikit-Learn's `StandardScaler` class on the numerical features. This will transform these features to have a mean of 0 and unit standard deviation."
   ]
  },
  {
   "cell_type": "code",
   "execution_count": 16,
   "metadata": {},
   "outputs": [],
   "source": [
    "# Create instance of StandardScaler class\n",
    "scaler = StandardScaler()\n",
    "\n",
    "# Transform the training data\n",
    "X_train_scaled = scaler.fit_transform(X_train)"
   ]
  },
  {
   "cell_type": "code",
   "execution_count": 17,
   "metadata": {},
   "outputs": [],
   "source": [
    "# Transform the test data with same transformation\n",
    "X_test_scaled = scaler.transform(X_test)"
   ]
  },
  {
   "cell_type": "markdown",
   "metadata": {},
   "source": [
    "## 3. Regressor Models\n",
    "\n",
    "### 3.1 Decision Tree regressor\n",
    "\n",
    "The first model I will train is the Decision Tree regressor.  For this regressor, I will use the hyperparameter `criterion=mse`, which means that at each split, the algorithm tries to choose the split which minimises the mean squared error.\n",
    "\n",
    "I will use `GridSearchCV` with 3-fold cross-validation to find the best values for two more hyperparameters, which are:\n",
    "* `max_depth`, which, as explained previously, specifies the maximum tree depth\n",
    "* `min_impurity_decrease`, which is the minimum amount by which the impurity must decrease in order to split the node (default is 0)\n",
    "\n",
    "I will investigate 3 different values for each of the hyperparameters.\n",
    "\n",
    "The below function accepts the regressor, the grid of hyperparameters and the training data as arguments, performs grid search on these hyperparameters with 3-fold cross-validation, and returns the best combination of parameters as the final fitted model."
   ]
  },
  {
   "cell_type": "code",
   "execution_count": 18,
   "metadata": {},
   "outputs": [],
   "source": [
    "# Regressor training function\n",
    "def train_regressor(regressor, X_train, y_train, params_grid):\n",
    "    \n",
    "    # Create regressor object\n",
    "    reg_model = regressor()\n",
    "    \n",
    "    # Run GridSearchCV with grid of parameters, 3-fold cross-validation\n",
    "    grid_search = GridSearchCV(reg_model, params_grid, cv=3)\n",
    "    grid_search.fit(X_train, y_train)\n",
    "    \n",
    "    print('The best parameters are: {}'.format(grid_search.best_params_))\n",
    "    \n",
    "    return grid_search.best_estimator_"
   ]
  },
  {
   "cell_type": "code",
   "execution_count": 19,
   "metadata": {},
   "outputs": [],
   "source": [
    "# Grid of parameters for the regressor on raw data\n",
    "params_grid_reg = [{'criterion': ['mse'], 'max_depth': [2, 3, 4], 'min_impurity_decrease': [0, 0.1, 0.3]}]"
   ]
  },
  {
   "cell_type": "code",
   "execution_count": 21,
   "metadata": {},
   "outputs": [
    {
     "name": "stdout",
     "output_type": "stream",
     "text": [
      "The best parameters are: {'criterion': 'mse', 'max_depth': 3, 'min_impurity_decrease': 0.1}\n"
     ]
    }
   ],
   "source": [
    "# Apply function to raw data\n",
    "reg_dt = train_regressor(DecisionTreeRegressor, X_train, y_train, params_grid_reg)"
   ]
  },
  {
   "cell_type": "markdown",
   "metadata": {},
   "source": [
    "Applying the function to the training data with the Decision Tree regressor, the best model has been assigned to a variable and the best hyperparameters are shown in the output above. The results show that the best values are a `max_depth` of 3 and a `min_impurity_decrease` of 0 (although I would note that I ran this code a few times, and on some occasions, these values were different, due to variance in the cross-validation).\n",
    "\n",
    "Below is another function which uses the final model to make predictions, and performs cross-validation with 3-folds to get the mean squared error on the predictions."
   ]
  },
  {
   "cell_type": "code",
   "execution_count": 24,
   "metadata": {},
   "outputs": [],
   "source": [
    "from sklearn.model_selection import cross_val_score\n",
    "\n",
    "# Function to get MSE of predictions\n",
    "def mse_pred(best_model, X_test, y_test):\n",
    "    # Use the final model to make predictions on the test set\n",
    "    y_pred = best_model.predict(X_test)\n",
    "    \n",
    "    # Cross-validation with 3-folds to get MSE\n",
    "    scores = cross_val_score(best_model, X_test, y_test, cv=3, scoring='neg_mean_squared_error')\n",
    "    print(\"MSE scores:\", -scores)\n",
    "    print(\"Average MSE score:\", -scores.mean())\n",
    "    return y_pred, -scores"
   ]
  },
  {
   "cell_type": "code",
   "execution_count": 25,
   "metadata": {},
   "outputs": [
    {
     "name": "stdout",
     "output_type": "stream",
     "text": [
      "MSE scores: [118.61731746 138.50155873 179.97507143]\n",
      "Average MSE score: 145.69798253968253\n"
     ]
    }
   ],
   "source": [
    "# Apply function to best raw regressor\n",
    "reg_dt_pred, reg_dt_scores = mse_pred(reg_dt, X_test, y_test)"
   ]
  },
  {
   "cell_type": "markdown",
   "metadata": {},
   "source": [
    "The average mean squared error of this model (across all three folds) is 151.14. Again, due to variance in the cross-validation process, I got a different score on a couple of occasions of running the code, so I note that output may change if this code is run again.\n",
    "\n",
    "This is a fairly small value of MSE, suggesting the model has performed quite well."
   ]
  },
  {
   "cell_type": "markdown",
   "metadata": {},
   "source": [
    "### 3.2 Support Vector Regressor\n",
    "\n",
    "Secondly, I will train the Support Vector regressor on the training data. For this model, I will use the `SVR` class from Scikit-Learn because it supports the use of kernels (while the `LinearSVR` class does not).\n",
    "\n",
    "For this model, I will use `GridSearch` to explore three different values of the following three hyperparameters:\n",
    "\n",
    "* `kernel`, which specifies the type of kernel\n",
    "* `C`, which is the regularisation parameter. A smaller value of C means more regularisation\n",
    "* `gamma`, which is the parameter for RBF and poly kernels. It controls the range of influence of each instance. A small gamma means the instances have a larger range of influence, leading to a smoother decision boundary."
   ]
  },
  {
   "cell_type": "code",
   "execution_count": 26,
   "metadata": {},
   "outputs": [],
   "source": [
    "# Grid of parameters for the SVR\n",
    "params_grid_svr = [{'kernel': ['linear', 'poly', 'rbf'], 'C': [1, 100, 1000], 'gamma': [0.001, 0.01, 0.1]}]"
   ]
  },
  {
   "cell_type": "code",
   "execution_count": 27,
   "metadata": {},
   "outputs": [
    {
     "name": "stdout",
     "output_type": "stream",
     "text": [
      "The best parameters are: {'C': 1000, 'gamma': 0.01, 'kernel': 'rbf'}\n"
     ]
    }
   ],
   "source": [
    "# Apply training function to SVR\n",
    "svr = train_regressor(SVR, X_train_scaled, y_train, params_grid_svr)"
   ]
  },
  {
   "cell_type": "markdown",
   "metadata": {},
   "source": [
    "The results from the grid search show that the best hyperparameter values are the RBF kernel, **C** = 1000 and $\\gamma$ = 0.01.  This large value of C means less regularisation, which could cause overfitting. The $\\gamma$ parameter is quite small, meaning a larger range of influence and a smoother decision boundary.\n",
    "\n",
    "Next, I will apply the function to get the mean squared error of the predictions."
   ]
  },
  {
   "cell_type": "code",
   "execution_count": 28,
   "metadata": {
    "scrolled": false
   },
   "outputs": [
    {
     "name": "stdout",
     "output_type": "stream",
     "text": [
      "MSE scores: [ 5.38960314  4.74546169 10.02638535]\n",
      "Average MSE score: 6.720483395707842\n"
     ]
    }
   ],
   "source": [
    "# Get MSE of best SVR\n",
    "svr_pred, svr_scores = mse_pred(svr, X_test_scaled, y_test)"
   ]
  },
  {
   "cell_type": "markdown",
   "metadata": {},
   "source": [
    "The average mean squared error of this model (across all three folds) is 6.72. This is a very small score, much smaller than the MSE score of the Decision Tree regressor, implying that this SVR model has performed much better.\n",
    "\n",
    "## 4. Outputs and comparison\n",
    "\n",
    "We can now compare and evaluate the performance of the two models."
   ]
  },
  {
   "cell_type": "code",
   "execution_count": 29,
   "metadata": {},
   "outputs": [
    {
     "data": {
      "text/html": [
       "<div>\n",
       "<style scoped>\n",
       "    .dataframe tbody tr th:only-of-type {\n",
       "        vertical-align: middle;\n",
       "    }\n",
       "\n",
       "    .dataframe tbody tr th {\n",
       "        vertical-align: top;\n",
       "    }\n",
       "\n",
       "    .dataframe thead th {\n",
       "        text-align: right;\n",
       "    }\n",
       "</style>\n",
       "<table border=\"1\" class=\"dataframe\">\n",
       "  <thead>\n",
       "    <tr style=\"text-align: right;\">\n",
       "      <th></th>\n",
       "      <th>DT regressor</th>\n",
       "      <th>SV regressor</th>\n",
       "    </tr>\n",
       "  </thead>\n",
       "  <tbody>\n",
       "    <tr>\n",
       "      <th>0</th>\n",
       "      <td>145.697983</td>\n",
       "      <td>6.720483</td>\n",
       "    </tr>\n",
       "  </tbody>\n",
       "</table>\n",
       "</div>"
      ],
      "text/plain": [
       "   DT regressor  SV regressor\n",
       "0    145.697983      6.720483"
      ]
     },
     "execution_count": 29,
     "metadata": {},
     "output_type": "execute_result"
    }
   ],
   "source": [
    "# Show table of average MSE\n",
    "mse_values = [[reg_dt_scores.mean(), svr_scores.mean()]]\n",
    "mse_headers = ['DT regressor', 'SV regressor']\n",
    "\n",
    "mse_df = pd.DataFrame(mse_values, index=None, columns=mse_headers)\n",
    "mse_df"
   ]
  },
  {
   "cell_type": "markdown",
   "metadata": {},
   "source": [
    "The mean squared error (MSE) is a measure of the difference between the true and predicted values. The smaller the value, the closer the predictions are to the truth.\n",
    "\n",
    "Looking at the above table, the MSE score for the SV regressor is much smaller than for the DT regressor, and is actually very close to zero. This suggests that the SV regressor has performed the best out of the two, and is a near-perfect model.\n",
    "\n",
    "We can visualise the performance of each regressor by plotting the prediction results. The code below outputs a plot with 3 subplots, which are explained further down."
   ]
  },
  {
   "cell_type": "code",
   "execution_count": 39,
   "metadata": {},
   "outputs": [
    {
     "data": {
      "image/png": "[encoded data removed]",
      "text/plain": [
       "<Figure size 1152x216 with 3 Axes>"
      ]
     },
     "metadata": {
      "needs_background": "light"
     },
     "output_type": "display_data"
    }
   ],
   "source": [
    "# Create the subplots\n",
    "fig, (ax1, ax2, ax3) = plt.subplots(nrows=1, ncols=3, figsize=(16, 3))\n",
    "\n",
    "# Plot the data\n",
    "ax1.plot(y_test, reg_dt_pred, 'b^')\n",
    "ax2.plot(y_test, svr_pred, 'go')\n",
    "ax3.plot(y_test, reg_dt_pred, 'b^')\n",
    "ax3.plot(y_test, svr_pred, 'go')\n",
    "\n",
    "# Add line for true values\n",
    "for ax in fig.get_axes():\n",
    "    ax.plot([y_test.min(), y_test.max()], [y_test.min(), y_test.max()], 'k--', lw=2)\n",
    "\n",
    "# Add titles and axis labels\n",
    "title_list = ['Decision Tree Regressor', 'SV Regressor', 'Both regressors']\n",
    "for i in np.arange(0, 3):\n",
    "    axis = fig.get_axes()[i]\n",
    "    axis.set(title=title_list[i], xlabel='True values', ylabel='Predicted values');\n",
    "\n",
    "# Adjust spacing\n",
    "plt.subplots_adjust(top=1.5)"
   ]
  },
  {
   "cell_type": "markdown",
   "metadata": {},
   "source": [
    "The first two subplots show the two regressors separately. They show the true values (y_test) against the predicted results from the regressor. The black line going through the graph joins the minimum and maximum values of y-test, and is an indicator of how close the predicted values are to the true values. The closer to this line, the closer the predicted values are to the truth.\n",
    "\n",
    "The third subplot (far right) shows the same values, but plots both regressors on the same graph.\n",
    "\n",
    "It is clear from the plots that the Support Vector regressor had the best performance. This is supported by its low MSE score. All the points on the SV regressor graph are very close to the line, showing that the predicted values were all very close to the truth."
   ]
  }
 ],
 "metadata": {
  "kernelspec": {
   "display_name": "Python 3",
   "language": "python",
   "name": "python3"
  },
  "language_info": {
   "codemirror_mode": {
    "name": "ipython",
    "version": 3
   },
   "file_extension": ".py",
   "mimetype": "text/x-python",
   "name": "python",
   "nbconvert_exporter": "python",
   "pygments_lexer": "ipython3",
   "version": "3.8.5"
  }
 },
 "nbformat": 4,
 "nbformat_minor": 4
}
